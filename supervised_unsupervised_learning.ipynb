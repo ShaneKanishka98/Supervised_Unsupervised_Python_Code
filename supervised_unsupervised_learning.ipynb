{
 "cells": [
  {
   "cell_type": "markdown",
   "id": "cb5a2b46",
   "metadata": {},
   "source": [
    "# Supervised Learning\n",
    "## Linear Regression (Python)"
   ]
  },
  {
   "cell_type": "code",
   "execution_count": null,
   "id": "5076a9cc",
   "metadata": {},
   "outputs": [],
   "source": [
    "\n",
    "import numpy as np\n",
    "import pandas as pd\n",
    "import matplotlib.pyplot as plt\n",
    "from sklearn.model_selection import train_test_split\n",
    "from sklearn.linear_model import LinearRegression\n",
    "from sklearn.metrics import mean_squared_error\n",
    "\n",
    "# Sample Data\n",
    "data = {'X': [1, 2, 3, 4, 5], 'Y': [2, 4, 6, 8, 10]}\n",
    "df = pd.DataFrame(data)\n",
    "X = df[['X']]\n",
    "Y = df['Y']\n",
    "\n",
    "# Split Data\n",
    "X_train, X_test, Y_train, Y_test = train_test_split(X, Y, test_size=0.2, random_state=42)\n",
    "\n",
    "# Train Model\n",
    "model = LinearRegression()\n",
    "model.fit(X_train, Y_train)\n",
    "\n",
    "# Predict\n",
    "Y_pred = model.predict(X_test)\n",
    "\n",
    "# Evaluate\n",
    "print(f'MSE: {mean_squared_error(Y_test, Y_pred)}')\n",
    "\n",
    "# Plot\n",
    "plt.scatter(X, Y, color='blue')\n",
    "plt.plot(X_test, Y_pred, color='red')\n",
    "plt.show()\n"
   ]
  },
  {
   "cell_type": "markdown",
   "id": "18654464",
   "metadata": {},
   "source": [
    "## Logistic Regression (Python)"
   ]
  },
  {
   "cell_type": "code",
   "execution_count": null,
   "id": "3799d53b",
   "metadata": {},
   "outputs": [],
   "source": [
    "\n",
    "from sklearn.linear_model import LogisticRegression\n",
    "from sklearn.metrics import accuracy_score\n",
    "\n",
    "# Sample Data\n",
    "data = {'X1': [1, 2, 3, 4, 5], 'X2': [2, 3, 4, 5, 6], 'Y': [0, 0, 1, 1, 1]}\n",
    "df = pd.DataFrame(data)\n",
    "X = df[['X1', 'X2']]\n",
    "Y = df['Y']\n",
    "\n",
    "# Train Model\n",
    "model = LogisticRegression()\n",
    "model.fit(X, Y)\n",
    "\n",
    "# Predict\n",
    "Y_pred = model.predict(X)\n",
    "print(f'Accuracy: {accuracy_score(Y, Y_pred)}')\n"
   ]
  },
  {
   "cell_type": "markdown",
   "id": "0fa44861",
   "metadata": {},
   "source": [
    "## Decision Tree (Python)"
   ]
  },
  {
   "cell_type": "code",
   "execution_count": null,
   "id": "63fe96a9",
   "metadata": {},
   "outputs": [],
   "source": [
    "\n",
    "from sklearn.tree import DecisionTreeClassifier\n",
    "\n",
    "# Train Model\n",
    "dt_model = DecisionTreeClassifier()\n",
    "dt_model.fit(X, Y)\n",
    "\n",
    "# Predict\n",
    "dt_pred = dt_model.predict(X)\n",
    "print(f'Accuracy: {accuracy_score(Y, dt_pred)}')\n"
   ]
  },
  {
   "cell_type": "markdown",
   "id": "a5c4abb8",
   "metadata": {},
   "source": [
    "# Unsupervised Learning\n",
    "## K-Means Clustering (Python)"
   ]
  },
  {
   "cell_type": "code",
   "execution_count": null,
   "id": "0cc0491c",
   "metadata": {},
   "outputs": [],
   "source": [
    "\n",
    "from sklearn.cluster import KMeans\n",
    "\n",
    "# Sample Data\n",
    "X = np.array([[1, 2], [2, 3], [3, 4], [5, 6], [8, 9]])\n",
    "\n",
    "# Train Model\n",
    "kmeans = KMeans(n_clusters=2, random_state=42)\n",
    "kmeans.fit(X)\n",
    "\n",
    "# Predict\n",
    "y_kmeans = kmeans.predict(X)\n",
    "\n",
    "# Plot\n",
    "plt.scatter(X[:, 0], X[:, 1], c=y_kmeans, cmap='viridis')\n",
    "plt.scatter(kmeans.cluster_centers_[:, 0], kmeans.cluster_centers_[:, 1], s=200, c='red', marker='X')\n",
    "plt.show()\n"
   ]
  }
 ],
 "metadata": {},
 "nbformat": 4,
 "nbformat_minor": 5
}